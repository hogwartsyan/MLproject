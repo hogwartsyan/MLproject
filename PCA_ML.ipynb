{
  "cells": [
    {
      "cell_type": "code",
      "execution_count": 7,
      "metadata": {
        "colab": {
          "base_uri": "https://localhost:8080/"
        },
        "id": "0_L3mn407lGs",
        "outputId": "5c013d06-d40a-4901-d274-7dfa9b679096"
      },
      "outputs": [
        {
          "name": "stderr",
          "output_type": "stream",
          "text": [
            "/usr/local/lib/python3.11/dist-packages/sklearn/linear_model/_logistic.py:1247: FutureWarning: 'multi_class' was deprecated in version 1.5 and will be removed in 1.7. From then on, it will always use 'multinomial'. Leave it to its default value to avoid this warning.\n",
            "  warnings.warn(\n"
          ]
        },
        {
          "name": "stdout",
          "output_type": "stream",
          "text": [
            "Ուսուցման ժամանակը: 152.78 վայրկյան\n",
            "Ճշտությունը: 0.8400\n",
            "Սկզբնական չափ: 784, PCA-ից հետո: 120\n"
          ]
        },
        {
          "name": "stderr",
          "output_type": "stream",
          "text": [
            "/usr/local/lib/python3.11/dist-packages/sklearn/linear_model/_logistic.py:465: ConvergenceWarning: lbfgs failed to converge (status=1):\n",
            "STOP: TOTAL NO. OF ITERATIONS REACHED LIMIT.\n",
            "\n",
            "Increase the number of iterations (max_iter) or scale the data as shown in:\n",
            "    https://scikit-learn.org/stable/modules/preprocessing.html\n",
            "Please also refer to the documentation for alternative solver options:\n",
            "    https://scikit-learn.org/stable/modules/linear_model.html#logistic-regression\n",
            "  n_iter_i = _check_optimize_result(\n"
          ]
        }
      ],
      "source": [
        "# Fashion MNIST դատասեթի վրա կիրառել ենք PCA և լուծել ենք կլասիֆիկացիայի խնդիր,\n",
        "# որպեսզի տեսնենք դրա ազդեցությունը ժամանակի և ինֆորմացիայի որակի վրա\n",
        "\n",
        "import numpy as np\n",
        "import time\n",
        "from sklearn.decomposition import PCA\n",
        "from sklearn.linear_model import LogisticRegression\n",
        "from sklearn.metrics import accuracy_score\n",
        "from sklearn.preprocessing import StandardScaler\n",
        "from tensorflow.keras.datasets import fashion_mnist\n",
        "import random\n",
        "import os\n",
        "\n",
        "random.seed(53)\n",
        "np.random.seed(53)\n",
        "os.environ['PYTHONHASHSEED'] = '53'\n",
        "# Ներբեռնել ենք տվյալները\n",
        "(X_train, y_train), (X_test, y_test) = fashion_mnist.load_data()\n",
        "# Այստեղ 28*28 չափի նկարները դարձրել ենք 784*1 չափի\n",
        "X_train = X_train.reshape(-1, 28*28)\n",
        "X_test = X_test.reshape(-1, 28*28)\n",
        "\n",
        "# Տվյալներից հեռացրել ենք միջինը և բաժանել ենք ստանդարտ շեղման վրա,որը ընդունված տեխնիկա է\n",
        "scaler = StandardScaler()\n",
        "X_train_scaled = scaler.fit_transform(X_train)\n",
        "X_test_scaled = scaler.transform(X_test)\n",
        "\n",
        "# Կիրառել ենք PCA\n",
        "pca = PCA(n_components=120)\n",
        "X_train_pca = pca.fit_transform(X_train_scaled)\n",
        "X_test_pca = pca.transform(X_test_scaled)\n",
        "\n",
        "# Ուսուցանել ենք Classifier-ը\n",
        "clf = LogisticRegression(max_iter=1100, solver='lbfgs', multi_class='multinomial')\n",
        "\n",
        "start_time = time.time()\n",
        "clf.fit(X_train_pca, y_train)\n",
        "training_time = time.time() - start_time\n",
        "\n",
        "# Գնահատել ենք արդյունքները\n",
        "y_pred = clf.predict(X_test_pca)\n",
        "accuracy = accuracy_score(y_test, y_pred)\n",
        "\n",
        "print(f\"Ուսուցման ժամանակը: {training_time:.2f} վայրկյան\")\n",
        "print(f\"Ճշտությունը: {accuracy:.4f}\")\n",
        "print(f\"Սկզբնական չափ: {X_train.shape[1]}, PCA-ից հետո: {X_train_pca.shape[1]}\")\n"
      ]
    },
    {
      "cell_type": "code",
      "execution_count": 8,
      "metadata": {
        "colab": {
          "base_uri": "https://localhost:8080/"
        },
        "id": "AJyGpu7nC0dg",
        "outputId": "309a29a3-d1de-40b7-a50a-5ba3de7bfe8b"
      },
      "outputs": [
        {
          "name": "stderr",
          "output_type": "stream",
          "text": [
            "/usr/local/lib/python3.11/dist-packages/sklearn/linear_model/_logistic.py:1247: FutureWarning: 'multi_class' was deprecated in version 1.5 and will be removed in 1.7. From then on, it will always use 'multinomial'. Leave it to its default value to avoid this warning.\n",
            "  warnings.warn(\n"
          ]
        },
        {
          "name": "stdout",
          "output_type": "stream",
          "text": [
            "Ուսուցման ժամանակը առանց PCA-ի: 439.51 վայրկյան\n",
            "Ճշտությունը առանց PCA-ի: 0.8347\n",
            "Մուտքային feature-ները: 784\n"
          ]
        }
      ],
      "source": [
        "# Նույն գործողությունները կատարել ենք այստեղ առանց PCA կիրառելու\n",
        "\n",
        "import numpy as np\n",
        "import time\n",
        "from sklearn.linear_model import LogisticRegression\n",
        "from sklearn.metrics import accuracy_score\n",
        "from sklearn.preprocessing import StandardScaler\n",
        "from tensorflow.keras.datasets import fashion_mnist\n",
        "\n",
        "random.seed(53)\n",
        "np.random.seed(53)\n",
        "os.environ['PYTHONHASHSEED'] = '53'\n",
        "\n",
        "(X_train, y_train), (X_test, y_test) = fashion_mnist.load_data()\n",
        "X_train = X_train.reshape(-1, 28*28)\n",
        "X_test = X_test.reshape(-1, 28*28)\n",
        "\n",
        "\n",
        "scaler = StandardScaler()\n",
        "X_train_scaled = scaler.fit_transform(X_train)\n",
        "X_test_scaled = scaler.transform(X_test)\n",
        "\n",
        "\n",
        "clf = LogisticRegression(max_iter=1100, solver='lbfgs', multi_class='multinomial')\n",
        "\n",
        "start_time = time.time()\n",
        "clf.fit(X_train_scaled, y_train)\n",
        "training_time = time.time() - start_time\n",
        "\n",
        "y_pred = clf.predict(X_test_scaled)\n",
        "accuracy = accuracy_score(y_test, y_pred)\n",
        "\n",
        "print(f\"Ուսուցման ժամանակը առանց PCA-ի: {training_time:.2f} վայրկյան\")\n",
        "print(f\"Ճշտությունը առանց PCA-ի: {accuracy:.4f}\")\n",
        "print(f\"Մուտքային feature-ները: {X_train.shape[1]}\")"
      ]
    },
    {
      "cell_type": "code",
      "execution_count": null,
      "metadata": {
        "colab": {
          "base_uri": "https://localhost:8080/"
        },
        "id": "QBDGj_bsJ8fN",
        "outputId": "af190417-a0ac-4cd1-a1e8-5dfd583e66d8"
      },
      "outputs": [
        {
          "name": "stderr",
          "output_type": "stream",
          "text": [
            "/usr/local/lib/python3.11/dist-packages/sklearn/linear_model/_logistic.py:1247: FutureWarning: 'multi_class' was deprecated in version 1.5 and will be removed in 1.7. From then on, it will always use 'multinomial'. Leave it to its default value to avoid this warning.\n",
            "  warnings.warn(\n"
          ]
        },
        {
          "name": "stdout",
          "output_type": "stream",
          "text": [
            "Ուսուցման ժամանակը: 137.95 վայրկյան\n",
            "Ճշտությունը: 0.8404\n",
            "կրճատված չափողականություն: 120\n"
          ]
        },
        {
          "name": "stderr",
          "output_type": "stream",
          "text": [
            "/usr/local/lib/python3.11/dist-packages/sklearn/linear_model/_logistic.py:465: ConvergenceWarning: lbfgs failed to converge (status=1):\n",
            "STOP: TOTAL NO. OF ITERATIONS REACHED LIMIT.\n",
            "\n",
            "Increase the number of iterations (max_iter) or scale the data as shown in:\n",
            "    https://scikit-learn.org/stable/modules/preprocessing.html\n",
            "Please also refer to the documentation for alternative solver options:\n",
            "    https://scikit-learn.org/stable/modules/linear_model.html#logistic-regression\n",
            "  n_iter_i = _check_optimize_result(\n"
          ]
        }
      ],
      "source": [
        "# Ձեռքով իմպլեմենտացրել ենք PCA-ը և կիրառել կրկին Fashion MNIST դատասետի վրա\n",
        "import numpy as np\n",
        "import time\n",
        "from tensorflow.keras.datasets import fashion_mnist\n",
        "from sklearn.linear_model import LogisticRegression\n",
        "from sklearn.metrics import accuracy_score\n",
        "\n",
        "# Ներբեռնենք տվյալնորը\n",
        "(X_train, y_train), (X_test, y_test) = fashion_mnist.load_data()\n",
        "\n",
        "X_train = X_train.reshape(-1, 28*28).astype(np.float32)\n",
        "X_test = X_test.reshape(-1, 28*28).astype(np.float32)\n",
        "\n",
        "# Նորմավորենք տվյալները\n",
        "mean = np.mean(X_train, axis=0)\n",
        "std = np.std(X_train, axis=0) + 1e-8\n",
        "X_train_norm = (X_train - mean) / std\n",
        "X_test_norm = (X_test - mean) / std\n",
        "\n",
        "def pca(X, num_components):\n",
        "    # Հանենք միջինը\n",
        "    X_centered = X - np.mean(X, axis=0)\n",
        "\n",
        "    # Հաշվենք կովարիացիոն մատրիցը\n",
        "    covariance_matrix = np.cov(X_centered, rowvar=False)\n",
        "\n",
        "   \n",
        "    eigenvalues, eigenvectors = np.linalg.eigh(covariance_matrix)\n",
        "\n",
        "    # Սորտավորենք սեփական վեկտորները\n",
        "    sorted_idx = np.argsort(eigenvalues)[::-1]\n",
        "    eigenvectors_sorted = eigenvectors[:, sorted_idx]\n",
        "\n",
        "    # Ընտրում ենք առաջին k սեփական վեկտորները\n",
        "    components = eigenvectors_sorted[:, :num_components]\n",
        "\n",
        "    # Պրոյեկտում ենք կետերը\n",
        "    X_reduced = np.dot(X_centered, components)\n",
        "\n",
        "    return X_reduced, components\n",
        "\n",
        "\n",
        "# PCA-ի կիրառումը\n",
        "n_components = 120\n",
        "X_train_pca, components = pca(X_train_norm, n_components)\n",
        "X_test_pca = np.dot(X_test_norm - np.mean(X_train_norm, axis=0), components)\n",
        "\n",
        "\n",
        "# Կլասիֆիկատորի ուսուցումը\n",
        "clf = LogisticRegression(max_iter=1000, solver='lbfgs', multi_class='multinomial', random_state=42)\n",
        "\n",
        "start = time.time()\n",
        "clf.fit(X_train_pca, y_train)\n",
        "train_time = time.time() - start\n",
        "\n",
        "\n",
        "# Գնահատենք\n",
        "y_pred = clf.predict(X_test_pca)\n",
        "accuracy = accuracy_score(y_test, y_pred)\n",
        "\n",
        "print(f\"Ուսուցման ժամանակը: {train_time:.2f} վայրկյան\")\n",
        "print(f\"Ճշտությունը: {accuracy:.4f}\")\n",
        "print(f\"կրճատված չափողականություն: {X_train_pca.shape[1]}\")\n"
      ]
    }
  ],
  "metadata": {
    "colab": {
      "provenance": []
    },
    "kernelspec": {
      "display_name": "Python 3",
      "name": "python3"
    },
    "language_info": {
      "name": "python"
    }
  },
  "nbformat": 4,
  "nbformat_minor": 0
}
